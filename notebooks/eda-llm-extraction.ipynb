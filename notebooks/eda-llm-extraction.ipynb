{
 "cells": [
  {
   "cell_type": "code",
   "execution_count": 64,
   "metadata": {},
   "outputs": [],
   "source": [
    "from typing import Literal, Optional\n",
    "\n",
    "import tqdm\n",
    "import dspy\n",
    "import pandas as pd\n",
    "\n",
    "from rich import print as print_pretty"
   ]
  },
  {
   "cell_type": "markdown",
   "metadata": {},
   "source": [
    "## Data Loading"
   ]
  },
  {
   "cell_type": "code",
   "execution_count": 65,
   "metadata": {},
   "outputs": [
    {
     "name": "stdout",
     "output_type": "stream",
     "text": [
      "<class 'pandas.core.frame.DataFrame'>\n",
      "RangeIndex: 544 entries, 0 to 543\n",
      "Data columns (total 6 columns):\n",
      " #   Column            Non-Null Count  Dtype         \n",
      "---  ------            --------------  -----         \n",
      " 0   id                544 non-null    object        \n",
      " 1   headline          544 non-null    object        \n",
      " 2   content           544 non-null    object        \n",
      " 3   publication_date  544 non-null    datetime64[ns]\n",
      " 4   url               544 non-null    object        \n",
      " 5   source            544 non-null    object        \n",
      "dtypes: datetime64[ns](1), object(5)\n",
      "memory usage: 25.6+ KB\n"
     ]
    }
   ],
   "source": [
    "df = pd.read_json(\"../data/news-clean.jsonl\", lines=True, convert_dates=[\"publication_date\"]).dropna(subset=\"headline\")\n",
    "df.info()"
   ]
  },
  {
   "cell_type": "code",
   "execution_count": 66,
   "metadata": {},
   "outputs": [
    {
     "data": {
      "text/html": [
       "<div>\n",
       "<style scoped>\n",
       "    .dataframe tbody tr th:only-of-type {\n",
       "        vertical-align: middle;\n",
       "    }\n",
       "\n",
       "    .dataframe tbody tr th {\n",
       "        vertical-align: top;\n",
       "    }\n",
       "\n",
       "    .dataframe thead th {\n",
       "        text-align: right;\n",
       "    }\n",
       "</style>\n",
       "<table border=\"1\" class=\"dataframe\">\n",
       "  <thead>\n",
       "    <tr style=\"text-align: right;\">\n",
       "      <th></th>\n",
       "      <th>id</th>\n",
       "      <th>headline</th>\n",
       "      <th>content</th>\n",
       "      <th>publication_date</th>\n",
       "      <th>url</th>\n",
       "      <th>source</th>\n",
       "    </tr>\n",
       "  </thead>\n",
       "  <tbody>\n",
       "    <tr>\n",
       "      <th>0</th>\n",
       "      <td>5a618a2daa89d751b75a0c76732cca3b</td>\n",
       "      <td>Apple urged to remove new AI feature after fal...</td>\n",
       "      <td>The press freedom group Reporters Without Bord...</td>\n",
       "      <td>2024-12-19 20:32:19.900</td>\n",
       "      <td>https://www.cnn.com/2024/12/19/media/apple-int...</td>\n",
       "      <td>CNN</td>\n",
       "    </tr>\n",
       "    <tr>\n",
       "      <th>1</th>\n",
       "      <td>89a222209eced5c8fbb71670a8817219</td>\n",
       "      <td>Cyber Monday 2024 is over, but you can still s...</td>\n",
       "      <td>Best Buy is offering shoppers one more chance ...</td>\n",
       "      <td>2024-12-03 12:33:00.000</td>\n",
       "      <td>https://www.cnn.com/cnn-underscored/deals/best...</td>\n",
       "      <td>CNN</td>\n",
       "    </tr>\n",
       "  </tbody>\n",
       "</table>\n",
       "</div>"
      ],
      "text/plain": [
       "                                 id  \\\n",
       "0  5a618a2daa89d751b75a0c76732cca3b   \n",
       "1  89a222209eced5c8fbb71670a8817219   \n",
       "\n",
       "                                            headline  \\\n",
       "0  Apple urged to remove new AI feature after fal...   \n",
       "1  Cyber Monday 2024 is over, but you can still s...   \n",
       "\n",
       "                                             content        publication_date  \\\n",
       "0  The press freedom group Reporters Without Bord... 2024-12-19 20:32:19.900   \n",
       "1  Best Buy is offering shoppers one more chance ... 2024-12-03 12:33:00.000   \n",
       "\n",
       "                                                 url source  \n",
       "0  https://www.cnn.com/2024/12/19/media/apple-int...    CNN  \n",
       "1  https://www.cnn.com/cnn-underscored/deals/best...    CNN  "
      ]
     },
     "execution_count": 66,
     "metadata": {},
     "output_type": "execute_result"
    }
   ],
   "source": [
    "df.head(2)"
   ]
  },
  {
   "cell_type": "markdown",
   "metadata": {},
   "source": [
    "## DSPy Init"
   ]
  },
  {
   "cell_type": "code",
   "execution_count": 67,
   "metadata": {},
   "outputs": [],
   "source": [
    "lm = dspy.LM('ollama_chat/llama3.1:latest', api_base='http://localhost:7869', api_key='')\n",
    "dspy.configure(lm=lm)"
   ]
  },
  {
   "cell_type": "markdown",
   "metadata": {},
   "source": [
    "## Sentiment Analysis"
   ]
  },
  {
   "cell_type": "code",
   "execution_count": 68,
   "metadata": {},
   "outputs": [],
   "source": [
    "class NewsSentimentAnalysis(dspy.Signature):\n",
    "    \"\"\"Classify sentiment of a given news report.\"\"\"\n",
    "\n",
    "    headline: str = dspy.InputField()\n",
    "    contents: str = dspy.InputField()\n",
    "    company: Literal['APPLE', 'MICROSOFT', 'META', 'NVIDIA', 'OTHER'] = dspy.OutputField()\n",
    "    sentiment: Literal[\"POSITIVE\", \"NEUTRAL\", \"NEGATIVE\"] = dspy.OutputField()\n",
    "    confidence: float = dspy.OutputField()"
   ]
  },
  {
   "cell_type": "code",
   "execution_count": 69,
   "metadata": {},
   "outputs": [
    {
     "data": {
      "text/plain": [
       "self = Predict(StringSignature(headline, contents -> reasoning, company, sentiment, confidence\n",
       "    instructions='Classify sentiment of a given news report.'\n",
       "    headline = Field(annotation=str required=True json_schema_extra={'__dspy_field_type': 'input', 'prefix': 'Headline:', 'desc': '${headline}'})\n",
       "    contents = Field(annotation=str required=True json_schema_extra={'__dspy_field_type': 'input', 'prefix': 'Contents:', 'desc': '${contents}'})\n",
       "    reasoning = Field(annotation=str required=True json_schema_extra={'prefix': \"Reasoning: Let's think step by step in order to\", 'desc': '${reasoning}', '__dspy_field_type': 'output'})\n",
       "    company = Field(annotation=Literal['APPLE', 'MICROSOFT', 'META', 'NVIDIA', 'OTHER'] required=True json_schema_extra={'__dspy_field_type': 'output', 'prefix': 'Company:', 'desc': '${company}'})\n",
       "    sentiment = Field(annotation=Literal['POSITIVE', 'NEUTRAL', 'NEGATIVE'] required=True json_schema_extra={'__dspy_field_type': 'output', 'prefix': 'Sentiment:', 'desc': '${sentiment}'})\n",
       "    confidence = Field(annotation=float required=True json_schema_extra={'__dspy_field_type': 'output', 'prefix': 'Confidence:', 'desc': '${confidence}'})\n",
       "))"
      ]
     },
     "execution_count": 69,
     "metadata": {},
     "output_type": "execute_result"
    }
   ],
   "source": [
    "clf_sentiment = dspy.ChainOfThought(NewsSentimentAnalysis)\n",
    "clf_sentiment"
   ]
  },
  {
   "cell_type": "code",
   "execution_count": 70,
   "metadata": {},
   "outputs": [
    {
     "data": {
      "text/html": [
       "<pre style=\"white-space:pre;overflow-x:auto;line-height:normal;font-family:Menlo,'DejaVu Sans Mono',consolas,'Courier New',monospace\"><span style=\"font-weight: bold\">{</span>\n",
       "    <span style=\"color: #008000; text-decoration-color: #008000\">'predicted'</span>: <span style=\"color: #800080; text-decoration-color: #800080; font-weight: bold\">Prediction</span><span style=\"font-weight: bold\">(</span>\n",
       "    <span style=\"color: #808000; text-decoration-color: #808000\">reasoning</span>=<span style=\"color: #008000; text-decoration-color: #008000\">'The article discusses Cyber Monday 2024 deals at Best Buy, indicating a neutral tone focused on </span>\n",
       "<span style=\"color: #008000; text-decoration-color: #008000\">shopping opportunities.'</span>,\n",
       "    <span style=\"color: #808000; text-decoration-color: #808000\">company</span>=<span style=\"color: #008000; text-decoration-color: #008000\">'OTHER'</span>,\n",
       "    <span style=\"color: #808000; text-decoration-color: #808000\">sentiment</span>=<span style=\"color: #008000; text-decoration-color: #008000\">'NEUTRAL'</span>,\n",
       "    <span style=\"color: #808000; text-decoration-color: #808000\">confidence</span>=<span style=\"color: #008080; text-decoration-color: #008080; font-weight: bold\">0.8</span>\n",
       "<span style=\"font-weight: bold\">)</span>,\n",
       "    <span style=\"color: #008000; text-decoration-color: #008000\">'title'</span>: <span style=\"color: #008000; text-decoration-color: #008000\">'89a222209eced5c8fbb71670a8817219'</span>\n",
       "<span style=\"font-weight: bold\">}</span>\n",
       "</pre>\n"
      ],
      "text/plain": [
       "\u001b[1m{\u001b[0m\n",
       "    \u001b[32m'predicted'\u001b[0m: \u001b[1;35mPrediction\u001b[0m\u001b[1m(\u001b[0m\n",
       "    \u001b[33mreasoning\u001b[0m=\u001b[32m'The article discusses Cyber Monday 2024 deals at Best Buy, indicating a neutral tone focused on \u001b[0m\n",
       "\u001b[32mshopping opportunities.'\u001b[0m,\n",
       "    \u001b[33mcompany\u001b[0m=\u001b[32m'OTHER'\u001b[0m,\n",
       "    \u001b[33msentiment\u001b[0m=\u001b[32m'NEUTRAL'\u001b[0m,\n",
       "    \u001b[33mconfidence\u001b[0m=\u001b[1;36m0\u001b[0m\u001b[1;36m.8\u001b[0m\n",
       "\u001b[1m)\u001b[0m,\n",
       "    \u001b[32m'title'\u001b[0m: \u001b[32m'89a222209eced5c8fbb71670a8817219'\u001b[0m\n",
       "\u001b[1m}\u001b[0m\n"
      ]
     },
     "metadata": {},
     "output_type": "display_data"
    }
   ],
   "source": [
    "input_index = 1\n",
    "\n",
    "print_pretty({\n",
    "    \"predicted\": clf_sentiment(headline=df.iloc[input_index, 0], contents=df.iloc[input_index, 1]),\n",
    "    \"title\": df.iloc[input_index, 0],\n",
    "})"
   ]
  },
  {
   "cell_type": "markdown",
   "metadata": {},
   "source": [
    "## Process All News"
   ]
  },
  {
   "cell_type": "code",
   "execution_count": 80,
   "metadata": {},
   "outputs": [
    {
     "name": "stderr",
     "output_type": "stream",
     "text": [
      "100%|██████████| 544/544 [00:00<00:00, 704.32it/s]\n"
     ]
    }
   ],
   "source": [
    "results = []\n",
    "for news in tqdm.tqdm(df.itertuples(), total=df.shape[0]):\n",
    "    try:\n",
    "        res = clf_sentiment(headline=news.headline, contents=news.content)\n",
    "        results.append({\n",
    "            \"id\": news.id,\n",
    "            \"source\": news.source,\n",
    "            \"headline\": news.headline,\n",
    "            \"publication_date\": news.publication_date,\n",
    "            \"company\": res.company,\n",
    "            \"sentiment\": res.sentiment,\n",
    "            \"confidence\": res.confidence,\n",
    "        })\n",
    "    except:\n",
    "        pass"
   ]
  },
  {
   "cell_type": "code",
   "execution_count": 81,
   "metadata": {},
   "outputs": [
    {
     "data": {
      "text/html": [
       "<div>\n",
       "<style scoped>\n",
       "    .dataframe tbody tr th:only-of-type {\n",
       "        vertical-align: middle;\n",
       "    }\n",
       "\n",
       "    .dataframe tbody tr th {\n",
       "        vertical-align: top;\n",
       "    }\n",
       "\n",
       "    .dataframe thead th {\n",
       "        text-align: right;\n",
       "    }\n",
       "</style>\n",
       "<table border=\"1\" class=\"dataframe\">\n",
       "  <thead>\n",
       "    <tr style=\"text-align: right;\">\n",
       "      <th></th>\n",
       "      <th>id</th>\n",
       "      <th>source</th>\n",
       "      <th>headline</th>\n",
       "      <th>publication_date</th>\n",
       "      <th>company</th>\n",
       "      <th>sentiment</th>\n",
       "      <th>confidence</th>\n",
       "    </tr>\n",
       "  </thead>\n",
       "  <tbody>\n",
       "    <tr>\n",
       "      <th>0</th>\n",
       "      <td>5a618a2daa89d751b75a0c76732cca3b</td>\n",
       "      <td>CNN</td>\n",
       "      <td>Apple urged to remove new AI feature after fal...</td>\n",
       "      <td>2024-12-19 20:32:19.900</td>\n",
       "      <td>APPLE</td>\n",
       "      <td>NEGATIVE</td>\n",
       "      <td>0.8</td>\n",
       "    </tr>\n",
       "    <tr>\n",
       "      <th>1</th>\n",
       "      <td>89a222209eced5c8fbb71670a8817219</td>\n",
       "      <td>CNN</td>\n",
       "      <td>Cyber Monday 2024 is over, but you can still s...</td>\n",
       "      <td>2024-12-03 12:33:00.000</td>\n",
       "      <td>OTHER</td>\n",
       "      <td>NEUTRAL</td>\n",
       "      <td>0.8</td>\n",
       "    </tr>\n",
       "    <tr>\n",
       "      <th>2</th>\n",
       "      <td>37a292b603e0313952c8fd6b623233ca</td>\n",
       "      <td>CNN</td>\n",
       "      <td>21 last-minute Cyber Monday tech deals on prod...</td>\n",
       "      <td>2024-12-03 00:50:00.000</td>\n",
       "      <td>OTHER</td>\n",
       "      <td>POSITIVE</td>\n",
       "      <td>0.9</td>\n",
       "    </tr>\n",
       "    <tr>\n",
       "      <th>3</th>\n",
       "      <td>c947aa040c36f2621b7231012e451594</td>\n",
       "      <td>CNN</td>\n",
       "      <td>Shop these 34 last-minute Apple Cyber Monday d...</td>\n",
       "      <td>2024-12-03 05:55:00.000</td>\n",
       "      <td>APPLE</td>\n",
       "      <td>POSITIVE</td>\n",
       "      <td>0.9</td>\n",
       "    </tr>\n",
       "    <tr>\n",
       "      <th>4</th>\n",
       "      <td>94d4c11e27bba1525f2d26af836e87a3</td>\n",
       "      <td>CNN</td>\n",
       "      <td>Apple’s AirPods Max hit a new record-low price...</td>\n",
       "      <td>2024-12-03 03:55:00.000</td>\n",
       "      <td>APPLE</td>\n",
       "      <td>POSITIVE</td>\n",
       "      <td>0.9</td>\n",
       "    </tr>\n",
       "  </tbody>\n",
       "</table>\n",
       "</div>"
      ],
      "text/plain": [
       "                                 id source  \\\n",
       "0  5a618a2daa89d751b75a0c76732cca3b    CNN   \n",
       "1  89a222209eced5c8fbb71670a8817219    CNN   \n",
       "2  37a292b603e0313952c8fd6b623233ca    CNN   \n",
       "3  c947aa040c36f2621b7231012e451594    CNN   \n",
       "4  94d4c11e27bba1525f2d26af836e87a3    CNN   \n",
       "\n",
       "                                            headline        publication_date  \\\n",
       "0  Apple urged to remove new AI feature after fal... 2024-12-19 20:32:19.900   \n",
       "1  Cyber Monday 2024 is over, but you can still s... 2024-12-03 12:33:00.000   \n",
       "2  21 last-minute Cyber Monday tech deals on prod... 2024-12-03 00:50:00.000   \n",
       "3  Shop these 34 last-minute Apple Cyber Monday d... 2024-12-03 05:55:00.000   \n",
       "4  Apple’s AirPods Max hit a new record-low price... 2024-12-03 03:55:00.000   \n",
       "\n",
       "  company sentiment  confidence  \n",
       "0   APPLE  NEGATIVE         0.8  \n",
       "1   OTHER   NEUTRAL         0.8  \n",
       "2   OTHER  POSITIVE         0.9  \n",
       "3   APPLE  POSITIVE         0.9  \n",
       "4   APPLE  POSITIVE         0.9  "
      ]
     },
     "execution_count": 81,
     "metadata": {},
     "output_type": "execute_result"
    }
   ],
   "source": [
    "df_results = pd.DataFrame(results)\n",
    "df_results.head()"
   ]
  },
  {
   "cell_type": "code",
   "execution_count": 82,
   "metadata": {},
   "outputs": [],
   "source": [
    "df_results.to_csv(\"../data/sentiment.csv\", index=None)"
   ]
  },
  {
   "cell_type": "code",
   "execution_count": 83,
   "metadata": {},
   "outputs": [
    {
     "data": {
      "text/plain": [
       "company\n",
       "OTHER        211\n",
       "APPLE        126\n",
       "META          81\n",
       "MICROSOFT     71\n",
       "NVIDIA        54\n",
       "Name: count, dtype: int64"
      ]
     },
     "execution_count": 83,
     "metadata": {},
     "output_type": "execute_result"
    }
   ],
   "source": [
    "df_results[\"company\"].value_counts()"
   ]
  },
  {
   "cell_type": "code",
   "execution_count": null,
   "metadata": {},
   "outputs": [],
   "source": []
  }
 ],
 "metadata": {
  "kernelspec": {
   "display_name": ".venv",
   "language": "python",
   "name": "python3"
  },
  "language_info": {
   "codemirror_mode": {
    "name": "ipython",
    "version": 3
   },
   "file_extension": ".py",
   "mimetype": "text/x-python",
   "name": "python",
   "nbconvert_exporter": "python",
   "pygments_lexer": "ipython3",
   "version": "3.11.9"
  }
 },
 "nbformat": 4,
 "nbformat_minor": 2
}
