{
 "cells": [
  {
   "cell_type": "code",
   "execution_count": 1,
   "metadata": {},
   "outputs": [],
   "source": [
    "import yfinance as yf"
   ]
  },
  {
   "cell_type": "markdown",
   "metadata": {},
   "source": [
    "## Data Loading"
   ]
  },
  {
   "cell_type": "code",
   "execution_count": 32,
   "metadata": {},
   "outputs": [
    {
     "data": {
      "text/plain": [
       "yfinance.Ticker object <AAPL>"
      ]
     },
     "execution_count": 32,
     "metadata": {},
     "output_type": "execute_result"
    }
   ],
   "source": [
    "t = yf.Ticker(\"AAPL\")\n",
    "t"
   ]
  },
  {
   "cell_type": "code",
   "execution_count": 34,
   "metadata": {},
   "outputs": [
    {
     "data": {
      "text/html": [
       "<div>\n",
       "<style scoped>\n",
       "    .dataframe tbody tr th:only-of-type {\n",
       "        vertical-align: middle;\n",
       "    }\n",
       "\n",
       "    .dataframe tbody tr th {\n",
       "        vertical-align: top;\n",
       "    }\n",
       "\n",
       "    .dataframe thead th {\n",
       "        text-align: right;\n",
       "    }\n",
       "</style>\n",
       "<table border=\"1\" class=\"dataframe\">\n",
       "  <thead>\n",
       "    <tr style=\"text-align: right;\">\n",
       "      <th></th>\n",
       "      <th>Open</th>\n",
       "      <th>High</th>\n",
       "      <th>Low</th>\n",
       "      <th>Close</th>\n",
       "      <th>Volume</th>\n",
       "      <th>Dividends</th>\n",
       "      <th>Stock Splits</th>\n",
       "    </tr>\n",
       "    <tr>\n",
       "      <th>Date</th>\n",
       "      <th></th>\n",
       "      <th></th>\n",
       "      <th></th>\n",
       "      <th></th>\n",
       "      <th></th>\n",
       "      <th></th>\n",
       "      <th></th>\n",
       "    </tr>\n",
       "  </thead>\n",
       "  <tbody>\n",
       "    <tr>\n",
       "      <th>2023-12-28 00:00:00-05:00</th>\n",
       "      <td>193.193528</td>\n",
       "      <td>193.710998</td>\n",
       "      <td>192.228256</td>\n",
       "      <td>192.636261</td>\n",
       "      <td>34049900</td>\n",
       "      <td>0.0</td>\n",
       "      <td>0.0</td>\n",
       "    </tr>\n",
       "    <tr>\n",
       "      <th>2023-12-29 00:00:00-05:00</th>\n",
       "      <td>192.954701</td>\n",
       "      <td>193.452263</td>\n",
       "      <td>190.795282</td>\n",
       "      <td>191.591385</td>\n",
       "      <td>42628800</td>\n",
       "      <td>0.0</td>\n",
       "      <td>0.0</td>\n",
       "    </tr>\n",
       "    <tr>\n",
       "      <th>2024-01-02 00:00:00-05:00</th>\n",
       "      <td>186.237618</td>\n",
       "      <td>187.521338</td>\n",
       "      <td>182.993517</td>\n",
       "      <td>184.734985</td>\n",
       "      <td>82488700</td>\n",
       "      <td>0.0</td>\n",
       "      <td>0.0</td>\n",
       "    </tr>\n",
       "    <tr>\n",
       "      <th>2024-01-03 00:00:00-05:00</th>\n",
       "      <td>183.321924</td>\n",
       "      <td>184.973835</td>\n",
       "      <td>182.535766</td>\n",
       "      <td>183.351776</td>\n",
       "      <td>58414500</td>\n",
       "      <td>0.0</td>\n",
       "      <td>0.0</td>\n",
       "    </tr>\n",
       "    <tr>\n",
       "      <th>2024-01-04 00:00:00-05:00</th>\n",
       "      <td>181.261983</td>\n",
       "      <td>182.197403</td>\n",
       "      <td>179.998185</td>\n",
       "      <td>181.023163</td>\n",
       "      <td>71983600</td>\n",
       "      <td>0.0</td>\n",
       "      <td>0.0</td>\n",
       "    </tr>\n",
       "  </tbody>\n",
       "</table>\n",
       "</div>"
      ],
      "text/plain": [
       "                                 Open        High         Low       Close  \\\n",
       "Date                                                                        \n",
       "2023-12-28 00:00:00-05:00  193.193528  193.710998  192.228256  192.636261   \n",
       "2023-12-29 00:00:00-05:00  192.954701  193.452263  190.795282  191.591385   \n",
       "2024-01-02 00:00:00-05:00  186.237618  187.521338  182.993517  184.734985   \n",
       "2024-01-03 00:00:00-05:00  183.321924  184.973835  182.535766  183.351776   \n",
       "2024-01-04 00:00:00-05:00  181.261983  182.197403  179.998185  181.023163   \n",
       "\n",
       "                             Volume  Dividends  Stock Splits  \n",
       "Date                                                          \n",
       "2023-12-28 00:00:00-05:00  34049900        0.0           0.0  \n",
       "2023-12-29 00:00:00-05:00  42628800        0.0           0.0  \n",
       "2024-01-02 00:00:00-05:00  82488700        0.0           0.0  \n",
       "2024-01-03 00:00:00-05:00  58414500        0.0           0.0  \n",
       "2024-01-04 00:00:00-05:00  71983600        0.0           0.0  "
      ]
     },
     "execution_count": 34,
     "metadata": {},
     "output_type": "execute_result"
    }
   ],
   "source": [
    "df = t.history(period='1mo')\n",
    "df.head()"
   ]
  },
  {
   "cell_type": "code",
   "execution_count": 35,
   "metadata": {},
   "outputs": [],
   "source": [
    "df[\"Goal1\"] = (df[\"Open\"] <= df[\"Open\"].shift(1)).astype(int)\n",
    "df[\"Goal2\"] = (df[\"Close\"] <= df[\"Open\"].shift(1)).astype(int)"
   ]
  },
  {
   "cell_type": "code",
   "execution_count": 36,
   "metadata": {},
   "outputs": [
    {
     "data": {
      "text/html": [
       "<div>\n",
       "<style scoped>\n",
       "    .dataframe tbody tr th:only-of-type {\n",
       "        vertical-align: middle;\n",
       "    }\n",
       "\n",
       "    .dataframe tbody tr th {\n",
       "        vertical-align: top;\n",
       "    }\n",
       "\n",
       "    .dataframe thead th {\n",
       "        text-align: right;\n",
       "    }\n",
       "</style>\n",
       "<table border=\"1\" class=\"dataframe\">\n",
       "  <thead>\n",
       "    <tr style=\"text-align: right;\">\n",
       "      <th></th>\n",
       "      <th>Open</th>\n",
       "      <th>High</th>\n",
       "      <th>Low</th>\n",
       "      <th>Close</th>\n",
       "      <th>Volume</th>\n",
       "      <th>Dividends</th>\n",
       "      <th>Stock Splits</th>\n",
       "      <th>Goal1</th>\n",
       "      <th>Goal2</th>\n",
       "    </tr>\n",
       "    <tr>\n",
       "      <th>Date</th>\n",
       "      <th></th>\n",
       "      <th></th>\n",
       "      <th></th>\n",
       "      <th></th>\n",
       "      <th></th>\n",
       "      <th></th>\n",
       "      <th></th>\n",
       "      <th></th>\n",
       "      <th></th>\n",
       "    </tr>\n",
       "  </thead>\n",
       "  <tbody>\n",
       "    <tr>\n",
       "      <th>2023-12-28 00:00:00-05:00</th>\n",
       "      <td>193.193528</td>\n",
       "      <td>193.710998</td>\n",
       "      <td>192.228256</td>\n",
       "      <td>192.636261</td>\n",
       "      <td>34049900</td>\n",
       "      <td>0.0</td>\n",
       "      <td>0.0</td>\n",
       "      <td>0</td>\n",
       "      <td>0</td>\n",
       "    </tr>\n",
       "    <tr>\n",
       "      <th>2023-12-29 00:00:00-05:00</th>\n",
       "      <td>192.954701</td>\n",
       "      <td>193.452263</td>\n",
       "      <td>190.795282</td>\n",
       "      <td>191.591385</td>\n",
       "      <td>42628800</td>\n",
       "      <td>0.0</td>\n",
       "      <td>0.0</td>\n",
       "      <td>1</td>\n",
       "      <td>1</td>\n",
       "    </tr>\n",
       "    <tr>\n",
       "      <th>2024-01-02 00:00:00-05:00</th>\n",
       "      <td>186.237618</td>\n",
       "      <td>187.521338</td>\n",
       "      <td>182.993517</td>\n",
       "      <td>184.734985</td>\n",
       "      <td>82488700</td>\n",
       "      <td>0.0</td>\n",
       "      <td>0.0</td>\n",
       "      <td>1</td>\n",
       "      <td>1</td>\n",
       "    </tr>\n",
       "    <tr>\n",
       "      <th>2024-01-03 00:00:00-05:00</th>\n",
       "      <td>183.321924</td>\n",
       "      <td>184.973835</td>\n",
       "      <td>182.535766</td>\n",
       "      <td>183.351776</td>\n",
       "      <td>58414500</td>\n",
       "      <td>0.0</td>\n",
       "      <td>0.0</td>\n",
       "      <td>1</td>\n",
       "      <td>1</td>\n",
       "    </tr>\n",
       "    <tr>\n",
       "      <th>2024-01-04 00:00:00-05:00</th>\n",
       "      <td>181.261983</td>\n",
       "      <td>182.197403</td>\n",
       "      <td>179.998185</td>\n",
       "      <td>181.023163</td>\n",
       "      <td>71983600</td>\n",
       "      <td>0.0</td>\n",
       "      <td>0.0</td>\n",
       "      <td>1</td>\n",
       "      <td>1</td>\n",
       "    </tr>\n",
       "  </tbody>\n",
       "</table>\n",
       "</div>"
      ],
      "text/plain": [
       "                                 Open        High         Low       Close  \\\n",
       "Date                                                                        \n",
       "2023-12-28 00:00:00-05:00  193.193528  193.710998  192.228256  192.636261   \n",
       "2023-12-29 00:00:00-05:00  192.954701  193.452263  190.795282  191.591385   \n",
       "2024-01-02 00:00:00-05:00  186.237618  187.521338  182.993517  184.734985   \n",
       "2024-01-03 00:00:00-05:00  183.321924  184.973835  182.535766  183.351776   \n",
       "2024-01-04 00:00:00-05:00  181.261983  182.197403  179.998185  181.023163   \n",
       "\n",
       "                             Volume  Dividends  Stock Splits  Goal1  Goal2  \n",
       "Date                                                                        \n",
       "2023-12-28 00:00:00-05:00  34049900        0.0           0.0      0      0  \n",
       "2023-12-29 00:00:00-05:00  42628800        0.0           0.0      1      1  \n",
       "2024-01-02 00:00:00-05:00  82488700        0.0           0.0      1      1  \n",
       "2024-01-03 00:00:00-05:00  58414500        0.0           0.0      1      1  \n",
       "2024-01-04 00:00:00-05:00  71983600        0.0           0.0      1      1  "
      ]
     },
     "execution_count": 36,
     "metadata": {},
     "output_type": "execute_result"
    }
   ],
   "source": [
    "df.head()"
   ]
  },
  {
   "cell_type": "markdown",
   "metadata": {},
   "source": [
    "## Download All Dataset"
   ]
  },
  {
   "cell_type": "code",
   "execution_count": 37,
   "metadata": {},
   "outputs": [],
   "source": [
    "tickers = ['MSFT', 'AAPL', 'NVDA', 'META']\n",
    "for ticker in tickers:\n",
    "    t = yf.Ticker(ticker)\n",
    "    df_history = t.history(period='2y')\n",
    "    df_history[\"Goal1\"] = (df_history[\"Open\"] <= df_history[\"Open\"].shift(1)).astype(int)\n",
    "    df_history[\"Goal2\"] = (df_history[\"Close\"] <= df_history[\"Open\"].shift(1)).astype(int)\n",
    "    df_history.to_csv(f\"../data/stock/{ticker}.csv\")"
   ]
  },
  {
   "cell_type": "code",
   "execution_count": null,
   "metadata": {},
   "outputs": [],
   "source": []
  }
 ],
 "metadata": {
  "kernelspec": {
   "display_name": ".venv",
   "language": "python",
   "name": "python3"
  },
  "language_info": {
   "codemirror_mode": {
    "name": "ipython",
    "version": 3
   },
   "file_extension": ".py",
   "mimetype": "text/x-python",
   "name": "python",
   "nbconvert_exporter": "python",
   "pygments_lexer": "ipython3",
   "version": "3.11.9"
  }
 },
 "nbformat": 4,
 "nbformat_minor": 2
}
