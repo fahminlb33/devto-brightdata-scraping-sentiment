{
 "cells": [
  {
   "cell_type": "code",
   "execution_count": 57,
   "metadata": {},
   "outputs": [],
   "source": [
    "import hashlib\n",
    "\n",
    "import html2text\n",
    "import pandas as pd"
   ]
  },
  {
   "cell_type": "markdown",
   "metadata": {},
   "source": [
    "### Preprocess: CNN"
   ]
  },
  {
   "cell_type": "code",
   "execution_count": 58,
   "metadata": {},
   "outputs": [
    {
     "name": "stdout",
     "output_type": "stream",
     "text": [
      "<class 'pandas.core.frame.DataFrame'>\n",
      "RangeIndex: 1007 entries, 0 to 1006\n",
      "Data columns (total 19 columns):\n",
      " #   Column            Non-Null Count  Dtype              \n",
      "---  ------            --------------  -----              \n",
      " 0   timestamp         1007 non-null   datetime64[ns, UTC]\n",
      " 1   input             1007 non-null   object             \n",
      " 2   error             182 non-null    object             \n",
      " 3   error_code        182 non-null    object             \n",
      " 4   id                764 non-null    object             \n",
      " 5   url               764 non-null    object             \n",
      " 6   author            590 non-null    object             \n",
      " 7   headline          764 non-null    object             \n",
      " 8   topics            579 non-null    object             \n",
      " 9   publication_date  764 non-null    object             \n",
      " 10  updated_last      764 non-null    object             \n",
      " 11  content           764 non-null    object             \n",
      " 12  videos            233 non-null    object             \n",
      " 13  images            764 non-null    object             \n",
      " 14  related_articles  764 non-null    object             \n",
      " 15  keyword           764 non-null    object             \n",
      " 16  warning           61 non-null     object             \n",
      " 17  warning_code      61 non-null     object             \n",
      " 18  discovery_input   1000 non-null   object             \n",
      "dtypes: datetime64[ns, UTC](1), object(18)\n",
      "memory usage: 149.6+ KB\n"
     ]
    }
   ],
   "source": [
    "df_cnn = pd.read_json(\"../data/scraped/s_m5977u652mqcx1zuj0.jsonl\", lines=True)\n",
    "df_cnn.info()"
   ]
  },
  {
   "cell_type": "code",
   "execution_count": 59,
   "metadata": {},
   "outputs": [],
   "source": [
    "df_cnn_clean = df_cnn.copy()\n",
    "df_cnn_clean = df_cnn_clean.dropna(subset=\"headline\")\n",
    "df_cnn_clean = df_cnn_clean.drop_duplicates(subset=\"id\")\n",
    "df_cnn_clean = df_cnn_clean[[\"id\", \"headline\", \"content\", \"publication_date\", \"url\"]]\n",
    "\n",
    "df_cnn_clean[\"id\"] = df_cnn_clean[\"id\"].apply(lambda x: hashlib.md5(x.encode()).hexdigest())\n",
    "df_cnn_clean[\"publication_date\"] = pd.to_datetime(df_cnn_clean[\"publication_date\"])\n",
    "df_cnn_clean[\"content\"] = df_cnn_clean[\"content\"].apply(html2text.html2text)\n",
    "df_cnn_clean[\"source\"] = \"CNN\""
   ]
  },
  {
   "cell_type": "code",
   "execution_count": 60,
   "metadata": {},
   "outputs": [
    {
     "data": {
      "text/html": [
       "<div>\n",
       "<style scoped>\n",
       "    .dataframe tbody tr th:only-of-type {\n",
       "        vertical-align: middle;\n",
       "    }\n",
       "\n",
       "    .dataframe tbody tr th {\n",
       "        vertical-align: top;\n",
       "    }\n",
       "\n",
       "    .dataframe thead th {\n",
       "        text-align: right;\n",
       "    }\n",
       "</style>\n",
       "<table border=\"1\" class=\"dataframe\">\n",
       "  <thead>\n",
       "    <tr style=\"text-align: right;\">\n",
       "      <th></th>\n",
       "      <th>id</th>\n",
       "      <th>headline</th>\n",
       "      <th>content</th>\n",
       "      <th>publication_date</th>\n",
       "      <th>url</th>\n",
       "      <th>source</th>\n",
       "    </tr>\n",
       "  </thead>\n",
       "  <tbody>\n",
       "    <tr>\n",
       "      <th>8</th>\n",
       "      <td>5a618a2daa89d751b75a0c76732cca3b</td>\n",
       "      <td>Apple urged to remove new AI feature after fal...</td>\n",
       "      <td>The press freedom group Reporters Without Bord...</td>\n",
       "      <td>2024-12-19 20:32:19.900000+00:00</td>\n",
       "      <td>https://www.cnn.com/2024/12/19/media/apple-int...</td>\n",
       "      <td>CNN</td>\n",
       "    </tr>\n",
       "    <tr>\n",
       "      <th>9</th>\n",
       "      <td>89a222209eced5c8fbb71670a8817219</td>\n",
       "      <td>Cyber Monday 2024 is over, but you can still s...</td>\n",
       "      <td>Best Buy is offering shoppers one more chance ...</td>\n",
       "      <td>2024-12-03 12:33:00+00:00</td>\n",
       "      <td>https://www.cnn.com/cnn-underscored/deals/best...</td>\n",
       "      <td>CNN</td>\n",
       "    </tr>\n",
       "  </tbody>\n",
       "</table>\n",
       "</div>"
      ],
      "text/plain": [
       "                                 id  \\\n",
       "8  5a618a2daa89d751b75a0c76732cca3b   \n",
       "9  89a222209eced5c8fbb71670a8817219   \n",
       "\n",
       "                                            headline  \\\n",
       "8  Apple urged to remove new AI feature after fal...   \n",
       "9  Cyber Monday 2024 is over, but you can still s...   \n",
       "\n",
       "                                             content  \\\n",
       "8  The press freedom group Reporters Without Bord...   \n",
       "9  Best Buy is offering shoppers one more chance ...   \n",
       "\n",
       "                  publication_date  \\\n",
       "8 2024-12-19 20:32:19.900000+00:00   \n",
       "9        2024-12-03 12:33:00+00:00   \n",
       "\n",
       "                                                 url source  \n",
       "8  https://www.cnn.com/2024/12/19/media/apple-int...    CNN  \n",
       "9  https://www.cnn.com/cnn-underscored/deals/best...    CNN  "
      ]
     },
     "execution_count": 60,
     "metadata": {},
     "output_type": "execute_result"
    }
   ],
   "source": [
    "df_cnn_clean.head(2)"
   ]
  },
  {
   "cell_type": "code",
   "execution_count": 61,
   "metadata": {},
   "outputs": [
    {
     "name": "stdout",
     "output_type": "stream",
     "text": [
      "<class 'pandas.core.frame.DataFrame'>\n",
      "Index: 159 entries, 8 to 479\n",
      "Data columns (total 6 columns):\n",
      " #   Column            Non-Null Count  Dtype              \n",
      "---  ------            --------------  -----              \n",
      " 0   id                159 non-null    object             \n",
      " 1   headline          159 non-null    object             \n",
      " 2   content           159 non-null    object             \n",
      " 3   publication_date  159 non-null    datetime64[ns, UTC]\n",
      " 4   url               159 non-null    object             \n",
      " 5   source            159 non-null    object             \n",
      "dtypes: datetime64[ns, UTC](1), object(5)\n",
      "memory usage: 8.7+ KB\n"
     ]
    }
   ],
   "source": [
    "df_cnn_clean.info()"
   ]
  },
  {
   "cell_type": "markdown",
   "metadata": {},
   "source": [
    "### Preprocess: Reuters"
   ]
  },
  {
   "cell_type": "code",
   "execution_count": 62,
   "metadata": {},
   "outputs": [
    {
     "name": "stdout",
     "output_type": "stream",
     "text": [
      "<class 'pandas.core.frame.DataFrame'>\n",
      "Index: 199 entries, 1 to 200\n",
      "Data columns (total 18 columns):\n",
      " #   Column            Non-Null Count  Dtype              \n",
      "---  ------            --------------  -----              \n",
      " 0   timestamp         199 non-null    datetime64[ns, UTC]\n",
      " 1   input             199 non-null    object             \n",
      " 2   error             0 non-null      object             \n",
      " 3   error_code        0 non-null      object             \n",
      " 4   id                199 non-null    object             \n",
      " 5   url               199 non-null    object             \n",
      " 6   author            199 non-null    object             \n",
      " 7   headline          199 non-null    object             \n",
      " 8   topics            199 non-null    object             \n",
      " 9   publication_date  199 non-null    object             \n",
      " 10  updated_last      199 non-null    object             \n",
      " 11  description       199 non-null    object             \n",
      " 12  content           199 non-null    object             \n",
      " 13  videos            31 non-null     object             \n",
      " 14  images            179 non-null    object             \n",
      " 15  related_articles  199 non-null    object             \n",
      " 16  keyword           199 non-null    object             \n",
      " 17  discovery_input   199 non-null    object             \n",
      "dtypes: datetime64[ns, UTC](1), object(17)\n",
      "memory usage: 29.5+ KB\n"
     ]
    }
   ],
   "source": [
    "df_reuters = pd.read_json(\"../data/scraped/s_m5971bnx7j0lpn2mw.jsonl\", lines=True).dropna(subset=\"headline\")\n",
    "df_reuters.info()"
   ]
  },
  {
   "cell_type": "code",
   "execution_count": 63,
   "metadata": {},
   "outputs": [
    {
     "data": {
      "text/html": [
       "<div>\n",
       "<style scoped>\n",
       "    .dataframe tbody tr th:only-of-type {\n",
       "        vertical-align: middle;\n",
       "    }\n",
       "\n",
       "    .dataframe tbody tr th {\n",
       "        vertical-align: top;\n",
       "    }\n",
       "\n",
       "    .dataframe thead th {\n",
       "        text-align: right;\n",
       "    }\n",
       "</style>\n",
       "<table border=\"1\" class=\"dataframe\">\n",
       "  <thead>\n",
       "    <tr style=\"text-align: right;\">\n",
       "      <th></th>\n",
       "      <th>timestamp</th>\n",
       "      <th>input</th>\n",
       "      <th>error</th>\n",
       "      <th>error_code</th>\n",
       "      <th>id</th>\n",
       "      <th>url</th>\n",
       "      <th>author</th>\n",
       "      <th>headline</th>\n",
       "      <th>topics</th>\n",
       "      <th>publication_date</th>\n",
       "      <th>updated_last</th>\n",
       "      <th>description</th>\n",
       "      <th>content</th>\n",
       "      <th>videos</th>\n",
       "      <th>images</th>\n",
       "      <th>related_articles</th>\n",
       "      <th>keyword</th>\n",
       "      <th>discovery_input</th>\n",
       "    </tr>\n",
       "  </thead>\n",
       "  <tbody>\n",
       "    <tr>\n",
       "      <th>1</th>\n",
       "      <td>2024-12-29 06:01:53.668000+00:00</td>\n",
       "      <td>{'url': 'https://www.reuters.com/technology/ap...</td>\n",
       "      <td>NaN</td>\n",
       "      <td>NaN</td>\n",
       "      <td>C5HJNP7Y6RLQTMNFLOARUBYZNU</td>\n",
       "      <td>https://www.reuters.com/technology/apple-seeks...</td>\n",
       "      <td>Jody Godoy</td>\n",
       "      <td>Apple seeks to defend Google's billion-dollar ...</td>\n",
       "      <td>[Apple Inc. reports fourth quarter earnings in...</td>\n",
       "      <td>2024-12-24T15:23:34.000Z</td>\n",
       "      <td>2024-12-24T15:24:10.943Z</td>\n",
       "      <td>Apple has asked to participate in Google's upc...</td>\n",
       "      <td>Apple &lt;a href=\"https://www.reuters.com/markets...</td>\n",
       "      <td>None</td>\n",
       "      <td>[{'image_url': 'https://cloudfront-us-east-2.i...</td>\n",
       "      <td>[{'article_title': 'UK's Starmer asks regulato...</td>\n",
       "      <td>Technology</td>\n",
       "      <td>{'keyword': 'apple', 'sort': 'newest'}</td>\n",
       "    </tr>\n",
       "    <tr>\n",
       "      <th>2</th>\n",
       "      <td>2024-12-29 06:01:53.672000+00:00</td>\n",
       "      <td>{'url': 'https://www.reuters.com/markets/us/fu...</td>\n",
       "      <td>NaN</td>\n",
       "      <td>NaN</td>\n",
       "      <td>WXBHFHG6IVPCHJJ5ESSJ6AEJUE</td>\n",
       "      <td>https://www.reuters.com/markets/us/futures-low...</td>\n",
       "      <td>David French</td>\n",
       "      <td>Dow ends up to extend win run to five; rising ...</td>\n",
       "      <td>[Federal Reserve Chair Jerome Powell interest ...</td>\n",
       "      <td>2024-12-27T00:22:40.000Z</td>\n",
       "      <td>2024-12-27T00:23:51.543Z</td>\n",
       "      <td>The Dow Jones Industrial Average closed fracti...</td>\n",
       "      <td>The Dow Jones Industrial Average &lt;a href=\"http...</td>\n",
       "      <td>[{'video_description': 'Wall Street indexes en...</td>\n",
       "      <td>[{'image_url': 'https://cloudfront-us-east-2.i...</td>\n",
       "      <td>[{'article_title': 'Peru hikes minimum wage 10...</td>\n",
       "      <td>Markets</td>\n",
       "      <td>{'keyword': 'apple', 'sort': 'newest'}</td>\n",
       "    </tr>\n",
       "  </tbody>\n",
       "</table>\n",
       "</div>"
      ],
      "text/plain": [
       "                         timestamp  \\\n",
       "1 2024-12-29 06:01:53.668000+00:00   \n",
       "2 2024-12-29 06:01:53.672000+00:00   \n",
       "\n",
       "                                               input error error_code  \\\n",
       "1  {'url': 'https://www.reuters.com/technology/ap...   NaN        NaN   \n",
       "2  {'url': 'https://www.reuters.com/markets/us/fu...   NaN        NaN   \n",
       "\n",
       "                           id  \\\n",
       "1  C5HJNP7Y6RLQTMNFLOARUBYZNU   \n",
       "2  WXBHFHG6IVPCHJJ5ESSJ6AEJUE   \n",
       "\n",
       "                                                 url        author  \\\n",
       "1  https://www.reuters.com/technology/apple-seeks...    Jody Godoy   \n",
       "2  https://www.reuters.com/markets/us/futures-low...  David French   \n",
       "\n",
       "                                            headline  \\\n",
       "1  Apple seeks to defend Google's billion-dollar ...   \n",
       "2  Dow ends up to extend win run to five; rising ...   \n",
       "\n",
       "                                              topics  \\\n",
       "1  [Apple Inc. reports fourth quarter earnings in...   \n",
       "2  [Federal Reserve Chair Jerome Powell interest ...   \n",
       "\n",
       "           publication_date              updated_last  \\\n",
       "1  2024-12-24T15:23:34.000Z  2024-12-24T15:24:10.943Z   \n",
       "2  2024-12-27T00:22:40.000Z  2024-12-27T00:23:51.543Z   \n",
       "\n",
       "                                         description  \\\n",
       "1  Apple has asked to participate in Google's upc...   \n",
       "2  The Dow Jones Industrial Average closed fracti...   \n",
       "\n",
       "                                             content  \\\n",
       "1  Apple <a href=\"https://www.reuters.com/markets...   \n",
       "2  The Dow Jones Industrial Average <a href=\"http...   \n",
       "\n",
       "                                              videos  \\\n",
       "1                                               None   \n",
       "2  [{'video_description': 'Wall Street indexes en...   \n",
       "\n",
       "                                              images  \\\n",
       "1  [{'image_url': 'https://cloudfront-us-east-2.i...   \n",
       "2  [{'image_url': 'https://cloudfront-us-east-2.i...   \n",
       "\n",
       "                                    related_articles     keyword  \\\n",
       "1  [{'article_title': 'UK's Starmer asks regulato...  Technology   \n",
       "2  [{'article_title': 'Peru hikes minimum wage 10...     Markets   \n",
       "\n",
       "                          discovery_input  \n",
       "1  {'keyword': 'apple', 'sort': 'newest'}  \n",
       "2  {'keyword': 'apple', 'sort': 'newest'}  "
      ]
     },
     "execution_count": 63,
     "metadata": {},
     "output_type": "execute_result"
    }
   ],
   "source": [
    "df_reuters.head(2)"
   ]
  },
  {
   "cell_type": "code",
   "execution_count": 64,
   "metadata": {},
   "outputs": [],
   "source": [
    "df_reuters_clean = df_reuters.copy()\n",
    "df_reuters_clean = df_reuters_clean.dropna(subset=\"headline\")\n",
    "df_reuters_clean = df_reuters_clean.drop_duplicates(subset=\"id\")\n",
    "df_reuters_clean = df_reuters_clean[[\"id\", \"headline\", \"content\", \"publication_date\", \"url\"]]\n",
    "\n",
    "df_reuters_clean[\"id\"] = df_reuters_clean[\"id\"].apply(lambda x: hashlib.md5(x.encode()).hexdigest())\n",
    "df_reuters_clean[\"publication_date\"] = pd.to_datetime(df_reuters_clean[\"publication_date\"])\n",
    "df_reuters_clean[\"content\"] = df_reuters_clean[\"content\"].apply(html2text.html2text)\n",
    "df_reuters_clean[\"source\"] = \"Reuters\""
   ]
  },
  {
   "cell_type": "code",
   "execution_count": 65,
   "metadata": {},
   "outputs": [
    {
     "name": "stdout",
     "output_type": "stream",
     "text": [
      "<class 'pandas.core.frame.DataFrame'>\n",
      "Index: 189 entries, 1 to 200\n",
      "Data columns (total 6 columns):\n",
      " #   Column            Non-Null Count  Dtype              \n",
      "---  ------            --------------  -----              \n",
      " 0   id                189 non-null    object             \n",
      " 1   headline          189 non-null    object             \n",
      " 2   content           189 non-null    object             \n",
      " 3   publication_date  189 non-null    datetime64[ns, UTC]\n",
      " 4   url               189 non-null    object             \n",
      " 5   source            189 non-null    object             \n",
      "dtypes: datetime64[ns, UTC](1), object(5)\n",
      "memory usage: 10.3+ KB\n"
     ]
    }
   ],
   "source": [
    "df_reuters_clean.info()"
   ]
  },
  {
   "cell_type": "markdown",
   "metadata": {},
   "source": [
    "### Preprocess: BBC"
   ]
  },
  {
   "cell_type": "code",
   "execution_count": 66,
   "metadata": {},
   "outputs": [
    {
     "name": "stdout",
     "output_type": "stream",
     "text": [
      "<class 'pandas.core.frame.DataFrame'>\n",
      "Index: 198 entries, 4 to 202\n",
      "Data columns (total 16 columns):\n",
      " #   Column            Non-Null Count  Dtype              \n",
      "---  ------            --------------  -----              \n",
      " 0   timestamp         198 non-null    datetime64[ns, UTC]\n",
      " 1   input             198 non-null    object             \n",
      " 2   error             0 non-null      object             \n",
      " 3   error_code        0 non-null      object             \n",
      " 4   id                198 non-null    object             \n",
      " 5   url               198 non-null    object             \n",
      " 6   author            198 non-null    object             \n",
      " 7   headline          198 non-null    object             \n",
      " 8   topics            158 non-null    object             \n",
      " 9   publication_date  198 non-null    object             \n",
      " 10  content           197 non-null    object             \n",
      " 11  videos            198 non-null    object             \n",
      " 12  images            198 non-null    object             \n",
      " 13  related_articles  104 non-null    object             \n",
      " 14  keyword           36 non-null     object             \n",
      " 15  discovery_input   198 non-null    object             \n",
      "dtypes: datetime64[ns, UTC](1), object(15)\n",
      "memory usage: 26.3+ KB\n"
     ]
    }
   ],
   "source": [
    "df_bbc = pd.read_json(\"../data/scraped/s_m597351cfyi3n67o2.jsonl\", lines=True).dropna(subset=\"headline\")\n",
    "df_bbc.info()"
   ]
  },
  {
   "cell_type": "code",
   "execution_count": 67,
   "metadata": {},
   "outputs": [
    {
     "data": {
      "text/html": [
       "<div>\n",
       "<style scoped>\n",
       "    .dataframe tbody tr th:only-of-type {\n",
       "        vertical-align: middle;\n",
       "    }\n",
       "\n",
       "    .dataframe tbody tr th {\n",
       "        vertical-align: top;\n",
       "    }\n",
       "\n",
       "    .dataframe thead th {\n",
       "        text-align: right;\n",
       "    }\n",
       "</style>\n",
       "<table border=\"1\" class=\"dataframe\">\n",
       "  <thead>\n",
       "    <tr style=\"text-align: right;\">\n",
       "      <th></th>\n",
       "      <th>timestamp</th>\n",
       "      <th>input</th>\n",
       "      <th>error</th>\n",
       "      <th>error_code</th>\n",
       "      <th>id</th>\n",
       "      <th>url</th>\n",
       "      <th>author</th>\n",
       "      <th>headline</th>\n",
       "      <th>topics</th>\n",
       "      <th>publication_date</th>\n",
       "      <th>content</th>\n",
       "      <th>videos</th>\n",
       "      <th>images</th>\n",
       "      <th>related_articles</th>\n",
       "      <th>keyword</th>\n",
       "      <th>discovery_input</th>\n",
       "    </tr>\n",
       "  </thead>\n",
       "  <tbody>\n",
       "    <tr>\n",
       "      <th>4</th>\n",
       "      <td>2024-12-29 06:16:07.752000+00:00</td>\n",
       "      <td>{'url': 'https://www.bbc.com/news/articles/cvg...</td>\n",
       "      <td>NaN</td>\n",
       "      <td>NaN</td>\n",
       "      <td>cvg6d75gk90o</td>\n",
       "      <td>https://www.bbc.com/news/articles/cvg6d75gk90o</td>\n",
       "      <td>Lisa Young</td>\n",
       "      <td>Appeal to people working with nature and farmi...</td>\n",
       "      <td>[Alderney]</td>\n",
       "      <td>2024-12-14T09:16:32.776Z</td>\n",
       "      <td>Alderney's growers, farmers and fishermen are ...</td>\n",
       "      <td>[]</td>\n",
       "      <td>[{'image_url': 'https://ichef.bbci.co.uk/image...</td>\n",
       "      <td>[{'article_title': 'Airports open late to clea...</td>\n",
       "      <td>apple</td>\n",
       "      <td>{'keyword': 'apple'}</td>\n",
       "    </tr>\n",
       "    <tr>\n",
       "      <th>5</th>\n",
       "      <td>2024-12-29 06:16:10.457000+00:00</td>\n",
       "      <td>{'url': 'https://www.bbc.com/news/articles/c62...</td>\n",
       "      <td>NaN</td>\n",
       "      <td>NaN</td>\n",
       "      <td>c62j56rp957o</td>\n",
       "      <td>https://www.bbc.com/news/articles/c62j56rp957o</td>\n",
       "      <td>Mariam Issimdar</td>\n",
       "      <td>Council asks Frank Bruno gym to apply for new ...</td>\n",
       "      <td>[Northampton]</td>\n",
       "      <td>2024-11-19T18:30:42.216Z</td>\n",
       "      <td>A council is hoping boxer Frank Bruno will app...</td>\n",
       "      <td>[]</td>\n",
       "      <td>[{'image_url': 'https://ichef.bbci.co.uk/image...</td>\n",
       "      <td>[{'article_title': 'Pedestrian killed in Chris...</td>\n",
       "      <td>apple</td>\n",
       "      <td>{'keyword': 'apple'}</td>\n",
       "    </tr>\n",
       "  </tbody>\n",
       "</table>\n",
       "</div>"
      ],
      "text/plain": [
       "                         timestamp  \\\n",
       "4 2024-12-29 06:16:07.752000+00:00   \n",
       "5 2024-12-29 06:16:10.457000+00:00   \n",
       "\n",
       "                                               input error error_code  \\\n",
       "4  {'url': 'https://www.bbc.com/news/articles/cvg...   NaN        NaN   \n",
       "5  {'url': 'https://www.bbc.com/news/articles/c62...   NaN        NaN   \n",
       "\n",
       "             id                                             url  \\\n",
       "4  cvg6d75gk90o  https://www.bbc.com/news/articles/cvg6d75gk90o   \n",
       "5  c62j56rp957o  https://www.bbc.com/news/articles/c62j56rp957o   \n",
       "\n",
       "            author                                           headline  \\\n",
       "4       Lisa Young  Appeal to people working with nature and farmi...   \n",
       "5  Mariam Issimdar  Council asks Frank Bruno gym to apply for new ...   \n",
       "\n",
       "          topics          publication_date  \\\n",
       "4     [Alderney]  2024-12-14T09:16:32.776Z   \n",
       "5  [Northampton]  2024-11-19T18:30:42.216Z   \n",
       "\n",
       "                                             content videos  \\\n",
       "4  Alderney's growers, farmers and fishermen are ...     []   \n",
       "5  A council is hoping boxer Frank Bruno will app...     []   \n",
       "\n",
       "                                              images  \\\n",
       "4  [{'image_url': 'https://ichef.bbci.co.uk/image...   \n",
       "5  [{'image_url': 'https://ichef.bbci.co.uk/image...   \n",
       "\n",
       "                                    related_articles keyword  \\\n",
       "4  [{'article_title': 'Airports open late to clea...   apple   \n",
       "5  [{'article_title': 'Pedestrian killed in Chris...   apple   \n",
       "\n",
       "        discovery_input  \n",
       "4  {'keyword': 'apple'}  \n",
       "5  {'keyword': 'apple'}  "
      ]
     },
     "execution_count": 67,
     "metadata": {},
     "output_type": "execute_result"
    }
   ],
   "source": [
    "df_bbc.head(2)"
   ]
  },
  {
   "cell_type": "code",
   "execution_count": 69,
   "metadata": {},
   "outputs": [],
   "source": [
    "df_bbc_clean = df_bbc.copy()\n",
    "df_bbc_clean = df_bbc_clean.dropna(subset=\"content\")\n",
    "df_bbc_clean = df_bbc_clean.drop_duplicates(subset=\"id\")\n",
    "df_bbc_clean = df_bbc_clean[[\"id\", \"headline\", \"content\", \"publication_date\", \"url\"]]\n",
    "\n",
    "df_bbc_clean[\"id\"] = df_bbc_clean[\"id\"].apply(lambda x: hashlib.md5(x.encode()).hexdigest())\n",
    "df_bbc_clean[\"publication_date\"] = pd.to_datetime(df_bbc_clean[\"publication_date\"])\n",
    "df_bbc_clean[\"content\"] = df_bbc_clean[\"content\"].apply(html2text.html2text)\n",
    "df_bbc_clean[\"source\"] = \"BBC\""
   ]
  },
  {
   "cell_type": "markdown",
   "metadata": {},
   "source": [
    "## Merge All"
   ]
  },
  {
   "cell_type": "code",
   "execution_count": 70,
   "metadata": {},
   "outputs": [
    {
     "name": "stdout",
     "output_type": "stream",
     "text": [
      "<class 'pandas.core.frame.DataFrame'>\n",
      "RangeIndex: 544 entries, 0 to 543\n",
      "Data columns (total 6 columns):\n",
      " #   Column            Non-Null Count  Dtype              \n",
      "---  ------            --------------  -----              \n",
      " 0   id                544 non-null    object             \n",
      " 1   headline          544 non-null    object             \n",
      " 2   content           544 non-null    object             \n",
      " 3   publication_date  544 non-null    datetime64[ns, UTC]\n",
      " 4   url               544 non-null    object             \n",
      " 5   source            544 non-null    object             \n",
      "dtypes: datetime64[ns, UTC](1), object(5)\n",
      "memory usage: 25.6+ KB\n"
     ]
    }
   ],
   "source": [
    "df_all = pd.concat([df_cnn_clean, df_reuters_clean, df_bbc_clean], ignore_index=True)\n",
    "df_all.info()"
   ]
  },
  {
   "cell_type": "code",
   "execution_count": 71,
   "metadata": {},
   "outputs": [
    {
     "data": {
      "text/html": [
       "<div>\n",
       "<style scoped>\n",
       "    .dataframe tbody tr th:only-of-type {\n",
       "        vertical-align: middle;\n",
       "    }\n",
       "\n",
       "    .dataframe tbody tr th {\n",
       "        vertical-align: top;\n",
       "    }\n",
       "\n",
       "    .dataframe thead th {\n",
       "        text-align: right;\n",
       "    }\n",
       "</style>\n",
       "<table border=\"1\" class=\"dataframe\">\n",
       "  <thead>\n",
       "    <tr style=\"text-align: right;\">\n",
       "      <th></th>\n",
       "      <th>id</th>\n",
       "      <th>headline</th>\n",
       "      <th>content</th>\n",
       "      <th>publication_date</th>\n",
       "      <th>url</th>\n",
       "      <th>source</th>\n",
       "    </tr>\n",
       "  </thead>\n",
       "  <tbody>\n",
       "    <tr>\n",
       "      <th>0</th>\n",
       "      <td>5a618a2daa89d751b75a0c76732cca3b</td>\n",
       "      <td>Apple urged to remove new AI feature after fal...</td>\n",
       "      <td>The press freedom group Reporters Without Bord...</td>\n",
       "      <td>2024-12-19 20:32:19.900000+00:00</td>\n",
       "      <td>https://www.cnn.com/2024/12/19/media/apple-int...</td>\n",
       "      <td>CNN</td>\n",
       "    </tr>\n",
       "    <tr>\n",
       "      <th>1</th>\n",
       "      <td>89a222209eced5c8fbb71670a8817219</td>\n",
       "      <td>Cyber Monday 2024 is over, but you can still s...</td>\n",
       "      <td>Best Buy is offering shoppers one more chance ...</td>\n",
       "      <td>2024-12-03 12:33:00+00:00</td>\n",
       "      <td>https://www.cnn.com/cnn-underscored/deals/best...</td>\n",
       "      <td>CNN</td>\n",
       "    </tr>\n",
       "  </tbody>\n",
       "</table>\n",
       "</div>"
      ],
      "text/plain": [
       "                                 id  \\\n",
       "0  5a618a2daa89d751b75a0c76732cca3b   \n",
       "1  89a222209eced5c8fbb71670a8817219   \n",
       "\n",
       "                                            headline  \\\n",
       "0  Apple urged to remove new AI feature after fal...   \n",
       "1  Cyber Monday 2024 is over, but you can still s...   \n",
       "\n",
       "                                             content  \\\n",
       "0  The press freedom group Reporters Without Bord...   \n",
       "1  Best Buy is offering shoppers one more chance ...   \n",
       "\n",
       "                  publication_date  \\\n",
       "0 2024-12-19 20:32:19.900000+00:00   \n",
       "1        2024-12-03 12:33:00+00:00   \n",
       "\n",
       "                                                 url source  \n",
       "0  https://www.cnn.com/2024/12/19/media/apple-int...    CNN  \n",
       "1  https://www.cnn.com/cnn-underscored/deals/best...    CNN  "
      ]
     },
     "execution_count": 71,
     "metadata": {},
     "output_type": "execute_result"
    }
   ],
   "source": [
    "df_all.head(2)"
   ]
  },
  {
   "cell_type": "code",
   "execution_count": 72,
   "metadata": {},
   "outputs": [],
   "source": [
    "df_all.to_json(\"../data/news-clean.jsonl\", orient=\"records\", lines=True)"
   ]
  },
  {
   "cell_type": "code",
   "execution_count": 73,
   "metadata": {},
   "outputs": [
    {
     "data": {
      "text/plain": [
       "source\n",
       "BBC        196\n",
       "Reuters    189\n",
       "CNN        159\n",
       "Name: count, dtype: int64"
      ]
     },
     "execution_count": 73,
     "metadata": {},
     "output_type": "execute_result"
    }
   ],
   "source": [
    "df_all[\"source\"].value_counts()"
   ]
  },
  {
   "cell_type": "code",
   "execution_count": 74,
   "metadata": {},
   "outputs": [
    {
     "data": {
      "text/plain": [
       "source\n",
       "BBC       2014-11-18 11:33:39+00:00\n",
       "CNN       2023-07-28 21:12:49+00:00\n",
       "Reuters   2023-11-29 20:59:46+00:00\n",
       "Name: publication_date, dtype: datetime64[ns, UTC]"
      ]
     },
     "execution_count": 74,
     "metadata": {},
     "output_type": "execute_result"
    }
   ],
   "source": [
    "df_all.groupby(\"source\")[\"publication_date\"].min()"
   ]
  },
  {
   "cell_type": "code",
   "execution_count": 75,
   "metadata": {},
   "outputs": [
    {
     "data": {
      "text/plain": [
       "source\n",
       "BBC       2024-12-27 08:55:06.442000+00:00\n",
       "CNN       2024-12-27 15:40:56.189000+00:00\n",
       "Reuters          2024-12-28 00:23:59+00:00\n",
       "Name: publication_date, dtype: datetime64[ns, UTC]"
      ]
     },
     "execution_count": 75,
     "metadata": {},
     "output_type": "execute_result"
    }
   ],
   "source": [
    "df_all.groupby(\"source\")[\"publication_date\"].max()"
   ]
  },
  {
   "cell_type": "code",
   "execution_count": null,
   "metadata": {},
   "outputs": [],
   "source": []
  },
  {
   "cell_type": "code",
   "execution_count": null,
   "metadata": {},
   "outputs": [],
   "source": []
  }
 ],
 "metadata": {
  "kernelspec": {
   "display_name": ".venv",
   "language": "python",
   "name": "python3"
  },
  "language_info": {
   "codemirror_mode": {
    "name": "ipython",
    "version": 3
   },
   "file_extension": ".py",
   "mimetype": "text/x-python",
   "name": "python",
   "nbconvert_exporter": "python",
   "pygments_lexer": "ipython3",
   "version": "3.11.9"
  }
 },
 "nbformat": 4,
 "nbformat_minor": 2
}
